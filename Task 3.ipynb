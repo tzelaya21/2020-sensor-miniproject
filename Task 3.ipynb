{
 "cells": [
  {
   "cell_type": "code",
   "execution_count": 1,
   "metadata": {},
   "outputs": [],
   "source": [
    "import json\n",
    "import pandas as pd\n",
    "import requests\n",
    "import math\n",
    "import numpy as np\n",
    "import warnings\n",
    "warnings.filterwarnings('ignore')"
   ]
  },
  {
   "cell_type": "code",
   "execution_count": 2,
   "metadata": {},
   "outputs": [],
   "source": [
    "def resp_to_packets(resp_text):\n",
    "    ''' Convert file to list of packets.'''\n",
    "    packet = ''\n",
    "    for line in resp_text.split('\\n'):\n",
    "        if line.startswith('}{'):\n",
    "            packet += '}'\n",
    "            yield json.loads(packet)\n",
    "            packet = '{'\n",
    "        else:\n",
    "            packet += line + '\\n'\n",
    "    yield json.loads(packet)\n",
    "    \n",
    "def packet_to_df(packet):\n",
    "    ''' Convert packet to data frame.'''\n",
    "    df = list()\n",
    "    for key, values in packet.items():\n",
    "        t = (pd.json_normalize(values)\n",
    "              .explode('co2')\n",
    "              .explode('occupancy')\n",
    "              .explode('temperature')\n",
    "              .assign(room=key)\n",
    "             )\n",
    "        df.append(t)\n",
    "    return pd.concat(df, ignore_index=True)\n",
    "\n",
    "dtypes = {'co2': float, 'occupancy': int, 'temperature': float, \n",
    "          'time': 'datetime64', 'room': str}\n",
    "url = 'https://gist.githubusercontent.com/tzelaya21/9b90dd07a3bdf49322f5b8019db73c96/raw/148ad3419d1520a478d3f0d7b66213ff7d84d76f/data.json'\n",
    "r = requests.get(url)\n",
    "assert r.ok\n",
    "\n",
    "packets = (packet for packet in resp_to_packets(r.text))\n",
    "dfs     = (packet_to_df(packet) for packet in packets)\n",
    "df      = pd.concat(dfs, ignore_index=True).astype(dtype=dtypes)\n",
    "\n",
    "lab1 = df.loc[df['room'] == 'lab1']\n",
    "class1 = df.loc[df['room'] == 'class1']\n",
    "office = df.loc[df['room'] == 'office']\n",
    "\n",
    "lab1 = lab1.reset_index(drop=True)\n",
    "class1 = class1.reset_index(drop=True)\n",
    "office = office.reset_index(drop=True)"
   ]
  },
  {
   "cell_type": "code",
   "execution_count": 3,
   "metadata": {},
   "outputs": [],
   "source": [
    "stand_dev = math.sqrt(lab1.var()['temperature'])\n",
    "mini = int(round((lab1.mean()['temperature'] - 2*stand_dev)))\n",
    "maxi = int(round((lab1.mean()['temperature'] + 2*stand_dev)))\n",
    "\n",
    "check = []\n",
    "for i in range (len(lab1)):\n",
    "    if lab1.loc[i, 'temperature'] < maxi and lab1.loc[i, 'temperature'] > mini:\n",
    "        check.append(lab1.loc[i, 'temperature'])\n",
    "    else:\n",
    "        check.append(np.nan)"
   ]
  },
  {
   "cell_type": "code",
   "execution_count": 4,
   "metadata": {},
   "outputs": [
    {
     "name": "stdout",
     "output_type": "stream",
     "text": [
      "Percentage of bad data points: 2.7%\n",
      "New median is 20.99627579600522\n",
      "New variance is 0.22895517947246088\n"
     ]
    }
   ],
   "source": [
    "lab1['filtered'] = pd.DataFrame(check, columns = ['Valid'])\n",
    "\n",
    "bad_n = lab1['filtered'].isnull().sum()\n",
    "bad_per = round((bad_n/len(lab1))*100, 2)\n",
    "print(\"Percentage of bad data points: \" + str(bad_per) +\"%\")\n",
    "\n",
    "print(\"New median is \" + str(lab1.median()['filtered']))\n",
    "print(\"New variance is \" + str(lab1.var()['filtered']))"
   ]
  },
  {
   "cell_type": "code",
   "execution_count": null,
   "metadata": {},
   "outputs": [],
   "source": []
  }
 ],
 "metadata": {
  "kernelspec": {
   "display_name": "Python 3",
   "language": "python",
   "name": "python3"
  },
  "language_info": {
   "codemirror_mode": {
    "name": "ipython",
    "version": 3
   },
   "file_extension": ".py",
   "mimetype": "text/x-python",
   "name": "python",
   "nbconvert_exporter": "python",
   "pygments_lexer": "ipython3",
   "version": "3.8.2"
  }
 },
 "nbformat": 4,
 "nbformat_minor": 4
}
